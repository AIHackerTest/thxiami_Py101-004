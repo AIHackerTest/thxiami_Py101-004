{
 "cells": [
  {
   "cell_type": "markdown",
   "metadata": {
    "collapsed": true
   },
   "source": [
    "# 教 6 个月前的自己学编程\n",
    "- 目录\n",
    "    - 0 前言\n",
    "    - 1 输入、输出、计算、变量、函数\n",
    "        - 1.1 从输出\"Hello world\"开始\n",
    "        - 1.2 注释\n",
    "        - 1.3 计算和变量\n",
    "        - 1.4 更高级的输出\n",
    "        - 1.5 函数\n",
    "        - 1.6 输入\n",
    "    - 2 条件语句和循环语句\n",
    "        - 2.1 布尔逻辑表达式\n",
    "        - 2.2 条件语句\n",
    "        - 2.3 循环语句\n",
    "    - 3 常见数据类型\n",
    "        - 3.1 commen sequence data types（string,list,tuple)\n",
    "        - 3.2 字典(dict)\n",
    "        - 3.3 集合(set)\n",
    "    - 4 模块\n",
    "    - 5 类和对象"
   ]
  },
  {
   "cell_type": "markdown",
   "metadata": {},
   "source": [
    "## 0 前言\n",
    "科技飞速发展，目前计算机已经渗透到生活中的方方面面。我们使用各种软件来提高工作的效率，人类的生产力得到极大的提高。但在使用各种软件的过程中，我们多少都会有这么一种感觉，软件只能满足常规的、大众化的需求。当面对一些个性化的需求时，我们就不得不手动处理。于是乎我们会有这种经历，一下午的时间都花在了重复做同一件事上。\n",
    "\n",
    "刚刚说好的提高生产力去哪儿了呢？其实如果你懂一点编程知识，会写一点简单的程序来处理这种重复劳动，你会感觉人生又新打开了一扇大门。那么你的问题又来了：我该选择哪门语言呢？我的答案就是：Python 3！对， Python ，而且是 Python 3。我知道你又会问为什么不是别的语言，因为我知道如果不管说哪个语言，你都会问它与其他语言相比的优缺点，但我信奉 IT 安全界黑哥的一句话：“就是干！”。与其患得患失比来比去，不如及早开始。（其实因为我只会 Python）\"Talk is cheap, show me the code!\"也是编程界的一句名言。 所以废话不多说，没时间解释了，快上车！\n",
    "\n",
    "关于 Python 的安装请自行搜索，推荐安装 [Anaconda](https://www.continuum.io/downloads)，安装后使用其中的 Jupyter notebook 开始编程，关于 Jupyter notebook 的使用教程可参阅官方文档，会简单的运行代码功能即可开始学习编程。"
   ]
  },
  {
   "cell_type": "markdown",
   "metadata": {},
   "source": [
    "## 1 输入、输出、计算、变量、函数\n",
    "### 1.1 从输出\"Hello world\"开始\n",
    "我们从最简单的程序开始，你将学会如何让电脑打印出你想表达的信息。输入以下代码后并运行，看看有什么变化？\n"
   ]
  },
  {
   "cell_type": "code",
   "execution_count": null,
   "metadata": {
    "collapsed": false
   },
   "outputs": [],
   "source": [
    "print('Hello world!')\n",
    "print(\"Hello world!\")\n",
    "print('Why I have to do that?')\n",
    "print('Just do it!')"
   ]
  },
  {
   "cell_type": "markdown",
   "metadata": {},
   "source": [
    "如果运行代码，代码框下面会出现 4 行信息，这就是你的第一个程序的输出结果。如果细心一点，会发现两点：\n",
    "- 输出的结果仅仅是 print('') 和 print(\"\") 引号内的文字，引号内的字符我们称之为字符串，可以看出来引号起到了限定输出范围边界的作用。突然想起来林丹的一句广告语：“人生不能越界，底线必须坚守。”在这里，引号的作用就是告诉电脑：“嘿！只输出引号内的东西哟！可别越界！;-)”。\n",
    "- 括号内不管是使用单引号还是双引号，都是成对出现，且程序输出的结果都一样\n",
    "\n",
    "Q: 为什么会有两种引号呢？\n",
    "A: 如果你想输出这句话: I'm studying python. 假如用单引号限定边界，代码为: print('I'm studying python.'),此时计算机就会出错啦。因为计算机根据最先成对出现的 2 个单引号认为 I 是你要输出的内容，后面的 m studying python. 部分只在末尾有 1 个单引号，缺少另 1 个必要的单引号来定义边界。所以会出错"
   ]
  },
  {
   "cell_type": "code",
   "execution_count": null,
   "metadata": {
    "collapsed": false
   },
   "outputs": [],
   "source": [
    "print('I'm studying python.')"
   ]
  },
  {
   "cell_type": "markdown",
   "metadata": {},
   "source": [
    "### 1.2 注释\n",
    "完成下面的代码练习，观察输出结果，是否和你想象的结果一致？"
   ]
  },
  {
   "cell_type": "code",
   "execution_count": null,
   "metadata": {
    "collapsed": true
   },
   "outputs": [],
   "source": [
    "# 我是一条注释，这里我独占一行\n",
    "print('Hello world!')\n",
    "print('Hello again!') # 我也是一条注释,可以放在代码后\n",
    "# print('This won't run!)"
   ]
  },
  {
   "cell_type": "markdown",
   "metadata": {},
   "source": [
    "观察输出结果发现，\"#\" 之后的东西都被程序忽略掉了，这里我们引入了一个新名词——“注释”。\"#\" + 自然文字/代码 = 注释，它在程序中总是与代码相伴而生，主要功能有二：\n",
    "- 类似文言文阅读中的注解，使用易于理解的自然语言描述某段代码的功能\n",
    "- 在你想要临时移除一段代码时，你还可以用注解的方式将这段代码临时禁用\n",
    "\n",
    "接下来的练习中，我们经常会使用注释来完成一些辅助解释"
   ]
  },
  {
   "cell_type": "markdown",
   "metadata": {},
   "source": [
    "### 1.3 计算和变量\n",
    "    除了输出指定的文字，还能做点什么呢？请自行敲入下方代码并运行，试着用 Python 来做一些计算。"
   ]
  },
  {
   "cell_type": "code",
   "execution_count": null,
   "metadata": {
    "collapsed": false
   },
   "outputs": [],
   "source": [
    "# Python 可以作常规的数学运算\n",
    "# print() 的 () 内可以直接放计算公式\n",
    "print(1 - 2) # 减法\n",
    "print(1 + 2) # 加法\n",
    "print((1 + 2) * 3) # 结合律与乘法\n",
    "print((1 + 2) * 3 / 2) # 除法"
   ]
  },
  {
   "cell_type": "markdown",
   "metadata": {},
   "source": [
    "我们看出来 Python 支持我们常用的四则运算，还支持 () 结合律等日常数学运算中所有的东西, 关于运算部分的更多资料参见:[Using Python as a Calculator](https://docs.python.org/3.6/tutorial/introduction.html#using-python-as-a-calculator)。\n",
    "以上这种输出方式有两个缺点：\n",
    "- 如果需要计算多个表达式，我们很难快速将结果与代码中的计算公式一一对应起来\n",
    "- 观察第 2 个至最后 1 个计算公式，下一个计算公式仅是在上一个公式的基础上增加 1 次新的运算。如果计算过程很复杂，按照我们的方式写来的计算公式就会很长，一旦出错也很难快速定位。\n",
    "\n",
    "针对以上两个缺点，Python 也提供了解决方案，我们先运行下面的代码练习，再来解释\n"
   ]
  },
  {
   "cell_type": "code",
   "execution_count": null,
   "metadata": {
    "collapsed": false
   },
   "outputs": [],
   "source": [
    "# 输出时候可以加上文字叙述，这样从输出就可知道计算公式的结果\n",
    "print('1 - 2 =', 1 - 2)\n",
    "\n",
    "# 可以将计算结果和字符串保存起来，并在后续代码中引用\n",
    "result = (1 + 2) * 3 / 2\n",
    "formula = '(1 + 2) * 3 / 2 ='\n",
    "\n",
    "print('(1 + 2) * 3 / 2 =', (1 + 2) * 3 / 2)\n",
    "print(formula, result) # print() 的 () 内可以直接放入变量\n",
    "\n",
    "# 观察上面两个的输出结果是否一样"
   ]
  },
  {
   "cell_type": "markdown",
   "metadata": {},
   "source": [
    "Python 提供的解决方案是：\n",
    "- 输出时候加上文字叙述\n",
    "- 引入另一个新概念——**“变量”**\n",
    "\n",
    "Q:什么是变量，它有什么作用？\n",
    "\n",
    "A:它可以存储用户指定的结果，并在之后被引用时代表该结果。如果使用过计算器的话，我们知道它在计算时都会保存上一次计算的结果，方便接下来使用，在这里变量就起到了类似的作用。\n",
    "\n",
    "Q:怎么把结果赋予给变量？\n",
    "\n",
    "A:从上面的练习中可以看出，Python 里使用 \"=\" 存储结果给某个变量，\"=\" 右侧为要存储的东西，左侧为变量名。变量不仅可以存储数字，还可以存储字符串(就是类似 `'Hello world'` 这样用引号围起来的文本)，以后你会发现还可以存储很多别的东西。\n",
    "\n",
    "Q: 变量名有什么要求吗？\n",
    "\n",
    "A: 变量名必须以英文字母开头，一般由小写字母和下划线符号组成，因变量名不能包含空格，所以下划线符号代指假想的空格。如：\"first_number\"是合法的变量名，\"first number\" 就不合要求。\n"
   ]
  },
  {
   "cell_type": "markdown",
   "metadata": {},
   "source": [
    "### 1.4 更高级的输出\n",
    "到目前为止，我们学会了输出，计算，并且能够在结合描述性文字和变量来输出计算公式的结果。但是我们的输出中还有新的问题，在上个练习的输出中，我们表达的结构套路大概是：“1 + 2 的计算结果是 3”，存有计算结果的变量只能放在描述性文字的右侧，二者以逗号隔开。一旦我们想换种其他表达方式，比如：“根据 Python 的计算表明： 3 是 1 + 2 的计算结果”，按照我们目前掌握的知识，你猜想写成下面这种形式。\n"
   ]
  },
  {
   "cell_type": "code",
   "execution_count": null,
   "metadata": {
    "collapsed": false
   },
   "outputs": [],
   "source": [
    "result = 1 + 2 \n",
    "formula = '1 + 2'\n",
    "print('根据 Python 的计算表明：', result, '是', formula, '的计算结果')"
   ]
  },
  {
   "cell_type": "markdown",
   "metadata": {},
   "source": [
    "运行以上代码，你会发现输出结果与我们预期相同，但这种输出方式实在是太麻烦，也不够直观，Python 中提供了一种高级的方式可以帮助实现我们的这个需求。\n",
    "完成下方代码练习，学会格式化字符串。"
   ]
  },
  {
   "cell_type": "code",
   "execution_count": null,
   "metadata": {
    "collapsed": false
   },
   "outputs": [],
   "source": [
    "result = 1 + 2 \n",
    "formula = '1 + 2'\n",
    "\n",
    "# 使用 print('{} {}'.format(a, b)) 可以在输出时把 变量a 替换掉第 1 个 {}, 变量b 替换掉第 2 个 {}\n",
    "# '{} {}' 的名称是字符串，{} {}'.format(a, b)其实就是对字符串进行格式化\n",
    "# 字符串格式化类似于向模板内替换关键词，字符串就是模板， .format(a, b) 就是是替换关键词\n",
    "print('根据 Python 的计算表明：{} 是 {} 的计算结果'.format(result, formula))\n",
    "\n",
    "# 也可以使用下方这两种方式\n",
    "text = '根据 Python 的计算表明：{} 是 {} 的计算结果'.format(result, formula)\n",
    "print(text)\n",
    "\n",
    "text2 = '根据 Python 的计算表明：{} 是 {} 的计算结果'\n",
    "print(text2.format(result, formula))"
   ]
  },
  {
   "cell_type": "markdown",
   "metadata": {},
   "source": [
    "### 1.5 函数\n",
    "上一节里面我们借助变量和格式化字符串，已经可以使用简单的方式完成计算过程及结果输出，但偷懒就是推动人类进步的一大动力，试想如果我们希望借助电脑完成批量计算时，如果能够对着电脑大喊：“1 + 1”，然后电脑自动输出“1 + 1 = 2 ”；大喊：“3 * 4”，电脑输出：“3 * 4 =12”。我们不需要每次都手动去写描述性语言，也不用手动去写 print(xxx)，所有这一切电脑都自动完成，这太美妙了。事实上，Python 可以帮我们实现类似的想法，只是我们需要把“1 + 1”输进去，而不是对着电脑大喊。接下来，我们通过一个例子引出函数(function)的概念。"
   ]
  },
  {
   "cell_type": "code",
   "execution_count": null,
   "metadata": {
    "collapsed": false
   },
   "outputs": [],
   "source": [
    "# 第一步，定义函数\n",
    "def add(a, b):\n",
    "    result = a + b #前面有 4 个空格，Python 通过缩进来判断代码属于函数内还是函数外\n",
    "    print('根据 Python 的计算表明：{} + {} = {}'.format(a, b, result))\n",
    "\n",
    "# 第二步，调用刚刚定义的函数\n",
    "add(1, 2)"
   ]
  },
  {
   "cell_type": "markdown",
   "metadata": {},
   "source": [
    "上面的例子中，我做了两件事：\n",
    "- 定义一个函数 \n",
    "- 调用这个函数\n",
    "那么问题来了：\n",
    "Q: 啥是函数呀？能干什么？\n",
    "A: 1. 它们给代码片段命名，就跟“变量”给字符串和数字命名一样。\n",
    "2. 它们可以接受参数，就跟你的脚本接受  argv  一样。\n",
    "3. 通过使用  #1  和  #2 ，它们可以让你创建“微型脚本”或者“小命令”。\n",
    "函数是模板类型的代码片段，需要传入参数才能拼成完整的代码片段，实现特定功能。模板是什么？参数又是什么？回忆中学老师教英文作文时候，给你一些模板句型，当你使用时候仅仅替换掉里面特定位置的词汇，比如介绍自己的名字，老师可能教你的是\"My name is Lucy.\"，到你用的时候自然就变成了\"My name is thxiami.\"。在这里\"My name is xx\"就是模板， xx 就相当于我们要传入的参数。\n",
    "\n",
    "Q：怎么定义函数,模板是什么？\n",
    "\n",
    "A: \n",
    "```\n",
    "def function_name(parameter1, parameter2, ...):\n",
    "    # 使用四个空格或 1个制表符缩进`\n",
    "    代码段\n",
    "```\n",
    "\n",
    "Q：怎么调用自定义的函数？\n",
    "\n",
    "A: `functiom_name(parameter1, parameter2, ...)` 即可调用；\n",
    "若返回 1 个值,可以使用 `value = functiom_name(parameter1, parameter2, ...)`保存返回值\n",
    "\n",
    "Q: 如果我想引用函数内的计算结果，即变量 `result` 该怎么办？\n",
    "A: 函数可以把内部的变量传出函数，供之后的代码调用。看下面的代码。"
   ]
  },
  {
   "cell_type": "code",
   "execution_count": 57,
   "metadata": {
    "collapsed": false
   },
   "outputs": [
    {
     "name": "stdout",
     "output_type": "stream",
     "text": [
      "根据 Python 的计算表明：1 + 2 = 3\n"
     ]
    }
   ],
   "source": [
    "# 第一步，定义函数\n",
    "def add(a, b):\n",
    "    result = a + b #前面有 4 个空格，Python 通过缩进来判断代码属于函数内还是函数外\n",
    "    text_inside_function = '根据 Python 的计算表明：{} + {} = {}'.format(a, b, result)\n",
    "    \n",
    "    # 使用 return 可以将函数内的变量传到函数外\n",
    "    return text_inside_function\n",
    "\n",
    "# 第二步，调用刚刚定义的函数\n",
    "text_outside_function = add(1, 2)\n",
    "print(text_outside_function)"
   ]
  },
  {
   "cell_type": "markdown",
   "metadata": {},
   "source": [
    "Q: 函数内的代码中的变量名如果和函数外的变量名一样，会有影响吗？\n",
    "\n",
    "A: 通过上面的例子我们知道，如果想获得函数内的变量，只有使用 `return` 将这个变量传出函数，才能引用这个变量。也就是说，函数内创建的变量只是函数内的局部变量。函数外创建的变量是全局变量，它可以在函数内被引用，但重名时，在函数内部，其会被函数内的同名局部变量覆盖，所以函数外的变量也不会影响函数内的同名变量。见下方代码"
   ]
  },
  {
   "cell_type": "code",
   "execution_count": 114,
   "metadata": {
    "collapsed": false
   },
   "outputs": [
    {
     "name": "stdout",
     "output_type": "stream",
     "text": [
      "函数内: 2\n",
      "函数外: 1\n"
     ]
    }
   ],
   "source": [
    "s123 = 1\n",
    "def test(s123):\n",
    "    print('函数内:', s123)\n",
    "\n",
    "test(2)\n",
    "print('函数外:', s123)"
   ]
  },
  {
   "cell_type": "markdown",
   "metadata": {},
   "source": [
    "## 1.6 输入\n",
    "上一节里我们通过一个例子实现了一个能作加法运算并输出计算结果的函数，但当时哪两个数相加使我们直接在代码里写死的，并不是用户可以输入的，这离我们最初的设想还有一点差距，接下来我们就看看如何获得用户的输入"
   ]
  },
  {
   "cell_type": "code",
   "execution_count": 104,
   "metadata": {
    "collapsed": false
   },
   "outputs": [
    {
     "name": "stdout",
     "output_type": "stream",
     "text": [
      "Please say some thing:hello\n",
      "hello\n"
     ]
    }
   ],
   "source": [
    "text = input('Please say some thing:') # 括号内的字符串为提示性语句，会出现在输入光标之前，可以留空\n",
    "\n",
    "# 通过上面这行代码，我们就将用户的输入存入到 text 这个变量中\n",
    "print(text)"
   ]
  },
  {
   "cell_type": "markdown",
   "metadata": {},
   "source": [
    "# 2 条件语句和循环语句\n",
    "## 2.1 布尔逻辑表达式\n",
    "条件语句，顾名思义，即在一定条件下执行某些语句。在讲解条件语句之前，我们需要先知道这里的一定条件指的是什么，就需要引入新的概念——布尔逻辑表达式。\n",
    "Python 除了支持计算外，还支持比较相等，比较大小等逻辑判断，并根据逻辑判断的结果返回 True 或者 False。例如：运行代码 `5 > 3` ,会返回结果 `True`\n",
    "而这里这里的 `5 > 3` 的全名就是布尔逻辑表达式。\n",
    "\n",
    "Python 支持的逻辑表达式包括：\n",
    "- a == b ，判断 a 是否等于 b\n",
    "- a != b ，判断 a 是否不等于 b\n",
    "- a > b， 同符号意思\n",
    "- a >= b， 同符号意思\n",
    "- a < b， 同符号意思\n",
    "- a <= b， 同符号意思\n",
    "\n",
    "Python 在加上以下 3 个逻辑连词后（高中数学里学过），可以做更复杂的逻辑判断\n",
    "- or 或 ，判断使用 or 连接而成的逻辑表达式真假的口诀：一真俱真\n",
    "- and 与，判断使用 and 连接而成的逻辑表达式真假的口诀：一假俱假\n",
    "- not 非，表示 not 后面逻辑表达式的反面\n",
    "\n",
    "下面给出了一些逻辑表达式，'<--->'右侧的双引号内写上你认为的结果（即 True 或 False），然后运行代码看看自己猜测是否正确"
   ]
  },
  {
   "cell_type": "code",
   "execution_count": null,
   "metadata": {
    "collapsed": false
   },
   "outputs": [],
   "source": [
    "# 布尔逻辑表达式练习\n",
    "print(True and True, \"<--->\", \"True\")\n",
    "print(False and True,  \"<--->\",  \"False\")\n",
    "print(1 == 1 and 2 == 1,  \"<--->\",  \"False\")\n",
    "print(\"test\" == \"test\" ,  \"<--->\", \"True\")\n",
    "print(1 == 1 or 2!= 1,  \"<--->\",  \"True\")\n",
    "print(True and 1 == 1,  \"<--->\",  \"True\")\n",
    "print(False and 0!= 0 ,  \"<--->\",  \"False\")\n",
    "print(True or 1 == 1,  \"<--->\",  \"True\")\n",
    "print(\"test\" == \"testung\",  \"<--->\",  \"False\")\n",
    "print(\"test\" == 1,  \"<--->\",  \"False\")\n",
    "print(not (True and False),  \"<--->\",  \"True\")\n",
    "print(not (1 == 1 and 0 !=1) ,  \"<--->\",\"False\")\n",
    "print(not (10 == 1 or 1000 == 1000),  \"<--->\",  \"False\")\n",
    "print(not (1 != 10 or 3 == 4),  \"<--->\",  \"False\")\n",
    "print(not (\"testing\" == \"testingf\" and \"Zed\" == \"Cool Guy\"),  \"<--->\",\"True\")\n",
    "print(1 == 1 and not (\"Testing\" == 1 or 1 == 0),  \"<--->\",  \"True\")\n",
    "print(\"chunky\" == \"bacon\" and not (3 == 4 or 3 == 3),  \"<--->\",  \"False\")\n",
    "print(3 == 3 and not (\"testing\" == \"testing\" or \"Python\" == \"Fun\"),  \"<--->\",  \"False\")"
   ]
  },
  {
   "cell_type": "markdown",
   "metadata": {},
   "source": [
    "## 2.2 条件语句\n",
    "我们在上一节讲了布尔逻辑表达式，那么这一节我们可以介绍它与条件语句的关系。先看一个例子："
   ]
  },
  {
   "cell_type": "code",
   "execution_count": null,
   "metadata": {
    "collapsed": true
   },
   "outputs": [],
   "source": [
    "x = int(input(\"Plaese enter an integer:\"))\n",
    "# 下面就是一个典型的 if 条件语句\n",
    "if x > 5:\n",
    "    print(\"This number is larger than 5.\") # 代码前 4 个空格，与函数定义类似，通过缩进界定 if 后条件成立时要执行的代码\n",
    "elif x == 5:\n",
    "    print(\"This number is equal to 5.\") # 代码前 4 个空格，与函数定义类似，通过缩进界定 elif 后条件成立时要执行的代码\n",
    "else:\n",
    "    print(\"This number is smaller than 5.\")"
   ]
  },
  {
   "cell_type": "markdown",
   "metadata": {},
   "source": [
    "这个例子中看出来条件语句的标准模版是：\n",
    "```\n",
    "if 布尔逻辑表达式A：\n",
    "    代码段A\n",
    "elif 布尔逻辑表达式B:\n",
    "    代码段B\n",
    "else：\n",
    "    代码段C\n",
    "```\n",
    "其中有几个地方要注意一下：\n",
    "- if 必须要有\n",
    "- elif 可以没有，也可以有多个，但 Python 只会执行第一次条件判断为真时后面的代码段\n",
    "- else 可以没有"
   ]
  },
  {
   "cell_type": "markdown",
   "metadata": {},
   "source": [
    "## 2.3 循环语句\n",
    "\n",
    "使用循环语句，我们可以做一些更加有趣的事情，比如做一个猜字的小游戏：程序指定一个数字为底数，然后让用户猜测。循环读入用户的输入，并使用条件语句作出判断。在做这个小游戏之前，我们先引入一个与循环有关的概念——列表(list)。对于它我们将在下一章展开讲解，在这里我们只需要知道：\n",
    "- 列表就像一个档案夹，里面放有按编号顺序归档的档案袋。它可以有序的存放一些元素，比如数字和字符串\n",
    "- 可以按顺序从列表中取出存放的元素\n",
    "\n",
    "### 2.3.1 for 循环 \n",
    "接下来，我们结合代码介绍列表和 for 循环语句。"
   ]
  },
  {
   "cell_type": "code",
   "execution_count": null,
   "metadata": {
    "collapsed": false
   },
   "outputs": [],
   "source": [
    "# 首先定义一个 list ，放有 0-5 一共 6 个数字\n",
    "number = [0, 1, 2, 3, 4, 5]\n",
    "\n",
    "# 下面是 for 循环语句\n",
    "for num in number:\n",
    "    print('这次取出的数字是:', num)\n",
    "    \n",
    "# 以下不属于 for 循环语句\n",
    "# 当 for 循环结束时执行下面语句\n",
    "print('循环结束')"
   ]
  },
  {
   "cell_type": "markdown",
   "metadata": {},
   "source": [
    "- 从代码看：\n",
    "for 循环的标准模式是：\n",
    "```\n",
    "for x in xxx:\n",
    "    代码段\n",
    "```\n",
    "其中每次从 列表 `xxx` 中的取出的元素，赋给变量 `x`\n",
    "\n",
    "- 从结果看出:\n",
    "    - 一共循环了 6 次\n",
    "    - 每次都按顺序取出 number 这个 list 中存放的数字\n",
    "\n",
    "所以使用 for 循环和列表，我们可以做几件事：\n",
    "- 列表有几个元素，就会循环几次\n",
    "- 每次循环都会按顺序取出列表中的元素\n",
    "- 每次循环时都可以执行指定的代码段，可以引用从列表中取出的元素\n"
   ]
  },
  {
   "cell_type": "markdown",
   "metadata": {},
   "source": [
    "其实，如果只为了配合循环使用，我们使用 Python 内置的函数 **range()** 达到相同的目的。\n",
    "**range()** 可以提供一个只有数字的序列。序列是啥？没事，先不用管这么多，看代码！"
   ]
  },
  {
   "cell_type": "code",
   "execution_count": null,
   "metadata": {
    "collapsed": false
   },
   "outputs": [],
   "source": [
    "# 第 1 种常见用法\n",
    "for i in range(6):\n",
    "    print(i)\n",
    "\n",
    "print('-' * 20)\n",
    "# 第 2 种常见用法\n",
    "for i in range(1, 6):\n",
    "    print(i)\n",
    "\n",
    "print('-' * 20)\n",
    "# 第 3 种常见用法\n",
    "for i in range(1, 6, 2):\n",
    "    print(i)"
   ]
  },
  {
   "cell_type": "markdown",
   "metadata": {},
   "source": [
    "### 2.3.2 while 循环\n",
    "除了 for 循环，Python 中还提供了一种循环方式 while 循环。下面是使用 while 循环语句生成 Fibonacci 数列的代码，根据代码我们看它与 for 循环的异同"
   ]
  },
  {
   "cell_type": "code",
   "execution_count": null,
   "metadata": {
    "collapsed": false
   },
   "outputs": [],
   "source": [
    "a = 0\n",
    "b = 1\n",
    "while b < 10:\n",
    "    print(b)\n",
    "    a, b = b, b + a\n",
    "    "
   ]
  },
  {
   "cell_type": "markdown",
   "metadata": {},
   "source": [
    "- 从代码看：\n",
    "while 循环的标准模式是：\n",
    "```\n",
    "while 布尔逻辑表达式:\n",
    "    代码段\n",
    "```\n",
    "while 循环结合了条件判断，当布尔逻辑表达式为 True 时，执行代码段；False 时，停止循环\n",
    "\n",
    "- 从结果看：\n",
    "当 b < 10 时，循环一直进行，直至 b > 10，循环停止\n",
    "\n",
    "- 与 for 循环的异同\n",
    "    - 同：二者都能循环执行某一代码段\n",
    "    - 异：for 循环的循环次数是已知的，适用于事先给定循环次数的场景；\n",
    "        while 循环的循环次数时未知到，适用于结合条件进行循环的场景"
   ]
  },
  {
   "cell_type": "markdown",
   "metadata": {},
   "source": [
    "### 2.3.3 break ， continue\n",
    "学习了 for-loop 和 while-loop，你的姿势水平得到不少提高，已经可以使用循环语句和条件语句完成用户的输入和验证，但要想完全实现猜字小游戏，有一个还待解决:当用户猜对时，我们应该输出‘猜测正确游戏结束’，并及时的停止循环。否则程序还会持续不断的让玩家继续猜测，猜对了还要继续猜，心多累啊。\n",
    "所以我们引入新的语句—— break 和 continue。下面是两个例子"
   ]
  },
  {
   "cell_type": "code",
   "execution_count": null,
   "metadata": {
    "collapsed": false
   },
   "outputs": [],
   "source": [
    "# break 语句一般配合条件语句使用\n",
    "# 当满足一定条件时，从 break 处停止 for/while 循环\n",
    "# break 后面的代码也不会被执行（指 for/while 循环对应的代码段中 break后的代码）\n",
    "for i in range(10):\n",
    "    print(i)\n",
    "    if i == 5:\n",
    "        print('发现数字:5')\n",
    "        break"
   ]
  },
  {
   "cell_type": "code",
   "execution_count": null,
   "metadata": {
    "collapsed": false
   },
   "outputs": [],
   "source": [
    "# cintinue 语句一般配合条件语句使用\n",
    "# 当满足一定条件时，从 continue 处结束 for/while 多次循环中的本次循环，直接开始下一次循环\n",
    "# continue 后面的代码也不会被执行（指 for/while 循环对应的代码段中 continue 后的代码）\n",
    "for i in range(5):\n",
    "    if i % 2 == 0: # 意思是 i 除 2 的余数为 0\n",
    "        print('发现偶数:{}'.format(i))\n",
    "        continue\n",
    "    print('发现奇数:{}'.format(i))"
   ]
  },
  {
   "cell_type": "markdown",
   "metadata": {},
   "source": [
    "### 2.3.4 猜字小游戏\n",
    "学了这里，你已经有足够的能力去做出最初提出的哪个猜字小游戏啦。\n",
    "游戏要求：\n",
    "- 程序随机生成一个 20 以内的数字，用户有 10 次机会猜测\n",
    "- 程序根据用户输入， 给予一定提示 （大了、小了、正确）\n",
    "- 猜对或用完 10 次机会，游戏结束\n",
    "\n",
    "提示：\n",
    "- 程序生成随机数的代码为:\n",
    "```\n",
    "# 先不要管下面这l两行，知道它们的作用时是生成一个 0~ 20 的随机数即可\n",
    "from random import randint\n",
    "random_num = randint(0,21)\n",
    "# random_num 就是我们获得的随机数\n",
    "```\n",
    "- 使用循环语句获得玩家输入\n",
    "- 利用条件语句判断玩家输入与底数是否相同\n",
    "\n",
    "\n",
    "敢不敢挑战这个：下方是使用 for 循环实现的小游戏，你能否使用 while 循环实现呢？"
   ]
  },
  {
   "cell_type": "code",
   "execution_count": 56,
   "metadata": {
    "collapsed": false
   },
   "outputs": [
    {
     "name": "stdout",
     "output_type": "stream",
     "text": [
      "请输入0-20的数字：10\n",
      "小了\n",
      "请输入0-20的数字：15\n",
      "猜对了\n"
     ]
    }
   ],
   "source": [
    "# 猜字小游戏\n",
    "from random import randint\n",
    "random_num = randint(0,21)\n",
    "\n",
    "for i in range(10):\n",
    "\n",
    "    input_num = int(input('请输入0-20的数字：'))\n",
    "    \n",
    "    if input_num > random_num:\n",
    "        print('大了')\n",
    "    \n",
    "    elif input_num < random_num:\n",
    "        print('小了')\n",
    "    \n",
    "    else:\n",
    "        print('猜对了')\n",
    "        break"
   ]
  },
  {
   "cell_type": "markdown",
   "metadata": {},
   "source": [
    "# 3 常见数据类型\n",
    "\n",
    "> 计算机顾名思义就是可以做数学计算的机器，因此，计算机程序理所当然地可以处理各种数值。但是，计算机能处理的远不止数值，还可以处理文本、图形、音频、视频、网页等各种各样的数据，不同的数据，需要定义不同的数据类型。\n",
    "\n",
    "在Python中，我们已经接触过 4 种数据类型：\n",
    "整数、浮点数、字符串 和 列表。\n",
    "整数即我们数学上说的整数，`a = 1`，那么 `a`这个变量的数据类型就是整数；\n",
    "浮点数就是我们数学上的小数，Python 中的表示方式可以为 `1.5`。之所以称为浮点数，是因为按照科学记数法表示时，一个浮点数的小数点位置是可变的。\n",
    "\n",
    "后两种数据类型将会在接下来的章节中讲解。\n"
   ]
  },
  {
   "cell_type": "markdown",
   "metadata": {},
   "source": [
    "## 3.1 common sequence data types\n",
    "Python　内有几种常见的有序数据类型：字符串，列表和元组，它们拥有一些共有的特性。全部特性参见:[Common Sequence Operations](https://docs.python.org/3.6/library/stdtypes.html#typesseq)\n",
    "\n",
    "下面我们以字符串为例，通过代码看一下这些常用特性。"
   ]
  },
  {
   "cell_type": "code",
   "execution_count": null,
   "metadata": {
    "collapsed": false
   },
   "outputs": [],
   "source": [
    "s = 'aabcdef'\n",
    "\n",
    "# 使用下标索引来获取对应位置的元素，下标从 0 开始\n",
    "print('s[0]=', s[0])\n",
    "\n",
    "# 取出 s[0] 至 s[3] 之间的元素，含首不含尾\n",
    "print('s[0:3]=', s[0:3])\n",
    "\n",
    "# 找出最大的数字或字母\n",
    "print('max(s)=', max(s))\n",
    "\n",
    "# 找出最小的数字或字母\n",
    "print('min(s)=', min(s))\n",
    "\n",
    "# 返回字符串/列表/元组 的长度或者里面包含元素的个数\n",
    "print('len(s)=', len(s)) # 6 个字母，所以长度为 6，或者说包含 6 个元素\n",
    "\n",
    "# 返回指定元素在字符串/列表/元组出现的次数\n",
    "print('s.count(\"a\")=', s.count(\"a\")) # 6 个字母，所以长度为 6，或者说包含 6 个元素\n",
    "\n",
    "# 判断指定元素是否在字符串/列表/元组中\n",
    "# 如果有返回 True,没有则返回 False\n",
    "print(\"'a' in s:\", 'a' in s)\n",
    "print(\"'g' in s:\", 'g' in s)\n",
    "\n",
    "# 判断指定元素是否不在字符串/列表/元组中\n",
    "# 如果是返回 True,否则返回 False\n",
    "print(\"'a' not in s:\", 'a' not in s)\n",
    "print(\"'g' not in s:\", 'g'  not in s)"
   ]
  },
  {
   "cell_type": "markdown",
   "metadata": {},
   "source": [
    "### 3.1.1 字符串（string）\n",
    "字符串常用特性还见下方代码。\n",
    "\n",
    "Q: 除了以上特性，关于 `string` 还有没有什么进一步的资料？\n",
    "\n",
    "A: [Text Sequence Type — str](https://docs.python.org/3.6/library/stdtypes.html#text-sequence-type-str)"
   ]
  },
  {
   "cell_type": "code",
   "execution_count": 74,
   "metadata": {
    "collapsed": false
   },
   "outputs": [
    {
     "name": "stdout",
     "output_type": "stream",
     "text": [
      "s + 'g' aabcdefg\n",
      "s.find('a') 0\n",
      "n.isdigit() True\n"
     ]
    }
   ],
   "source": [
    "s = 'aabcdef'\n",
    "\n",
    "# 在字符串尾部添加新的元素，只能添加字符串\n",
    "print(\"s + 'g'\", s + 'g')\n",
    "\n",
    "# 返回指定元素在字符串中第 1 次出现时的索引下标\n",
    "print(\"s.find('a')\", s.find('a'))\n",
    "\n",
    "n = '123'\n",
    "# 判断字符串内是否只含有整数\n",
    "print('n.isdigit()', n.isdigit())"
   ]
  },
  {
   "cell_type": "markdown",
   "metadata": {},
   "source": [
    "### 3.1.2 列表(list)\n",
    "列表是经常需要使用到的一种数据类型，它是一个有序的数据类型，可以随时添加或删除其中的元素。\n",
    "\n",
    "生成列表的一种方法我们也看到了，把用 \",\" 隔开的几个元素放入 \"[\" 和 \"]\"之间，即可得到列表。\n",
    "\n",
    "其完整特性参见：[Text Sequence Type — str](https://docs.python.org/3.6/library/stdtypes.html#text-sequence-type-str)，常用的几种特性为："
   ]
  },
  {
   "cell_type": "code",
   "execution_count": 80,
   "metadata": {
    "collapsed": false
   },
   "outputs": [
    {
     "name": "stdout",
     "output_type": "stream",
     "text": [
      "after replacement ['Jack', 'Lucy', 'Thxiami']\n",
      "after append ['Jack', 'Lucy', 'Thxiami', 'Tom']\n",
      "after remove ['Jack', 'Lucy', 'Thxiami']\n",
      "after pop ['Lucy', 'Thxiami']\n",
      "name returned Jack\n",
      "after del ls[0] ['Lucy', 'Thxiami', 'Jack']\n",
      "after del ls[0:2] ['Thxiami', 'Jack']\n"
     ]
    }
   ],
   "source": [
    "# 现在我们创建一个列表，把班级几个同学的姓名放入其中\n",
    "ls = ['Lily', 'Lucy', 'Thxiami', 'Jack']\n",
    "\n",
    "# 使用新同学的名字替换列表中指定下标的同学的名字\n",
    "ls[0] = 'Jack'\n",
    "print('after replacement', ls)"
   ]
  },
  {
   "cell_type": "code",
   "execution_count": null,
   "metadata": {
    "collapsed": true
   },
   "outputs": [],
   "source": [
    "ls = ['Lily', 'Lucy', 'Thxiami', 'Jack']\n",
    "# 在列表末端添加新同学的名字\n",
    "ls.append('Tom')\n",
    "print('after append \"Tom\"', ls)\n",
    "\n",
    "# 删除列表中某个同学的名字\n",
    "ls.remove('Tom')\n",
    "print('after remove \"Tom\"', ls)"
   ]
  },
  {
   "cell_type": "code",
   "execution_count": null,
   "metadata": {
    "collapsed": true
   },
   "outputs": [],
   "source": [
    "ls = ['Lily', 'Lucy', 'Thxiami', 'Jack']\n",
    "# 删除列表中某个下标对应的元素并返回这个名字\n",
    "name = ls.pop(0)\n",
    "print('after pop', ls)\n",
    "print('name returned', name)"
   ]
  },
  {
   "cell_type": "code",
   "execution_count": 81,
   "metadata": {
    "collapsed": false
   },
   "outputs": [
    {
     "name": "stdout",
     "output_type": "stream",
     "text": [
      "after del ls[0] ['Lucy', 'Thxiami', 'Jack']\n",
      "after del ls[0:2] ['Thxiami', 'Jack']\n"
     ]
    }
   ],
   "source": [
    "ls = ['Lily', 'Lucy', 'Thxiami', 'Jack']\n",
    "\n",
    "# 删除列表中单个或多个名字，不返回被删除的名字\n",
    "del ls[0]\n",
    "print('after del ls[0]', ls)\n",
    "\n",
    "ls = ['Lily', 'Lucy', 'Thxiami', 'Jack']\n",
    "del ls[0:2]\n",
    "print('after del ls[0:2]', ls)"
   ]
  },
  {
   "cell_type": "markdown",
   "metadata": {},
   "source": [
    "### 3.1.3 元组(tuple)\n",
    "我们先认识下 tuple 的样子~"
   ]
  },
  {
   "cell_type": "code",
   "execution_count": null,
   "metadata": {
    "collapsed": false,
    "scrolled": true
   },
   "outputs": [],
   "source": [
    "# 现在我们创建一个 tuple，把班级几个同学的姓名放入其中\n",
    "# 以下两种方式都可以创建 tuple\n",
    "tp1 = ('Lily', 'Lucy', 'Thxiami')\n",
    "tp2 = 'Lily', 'Lucy', 'Thxiami'\n",
    "print('tp1:', tp1)\n",
    "print('tp2:', tp2)"
   ]
  },
  {
   "cell_type": "markdown",
   "metadata": {},
   "source": [
    "我们发现 `tuple` 和 `list` 很像，内部元素都以逗号隔开，不同的是创建 `tuple` 时元素的两边的 `(` 和 `)` 不是必须的。\n",
    "\n",
    "`tuple` 和 `list` 同属 `sequence data types`，拥有一些共同的特性（如通过下标索引，找到最大的数字或字母等），而且二者看起来很像，但却存在着巨大的差别： \n",
    "- `list` 是 `mutable`，即其内部元素可变\n",
    "- `tuple`是 `immutable`， 一旦创建后，元素不可改变"
   ]
  },
  {
   "cell_type": "code",
   "execution_count": null,
   "metadata": {
    "collapsed": false
   },
   "outputs": [],
   "source": [
    "# 如果仿 list 方式修改 tuple 内元素\n",
    "# 则会出错，不妨试一下？\n",
    "# 其实 string 也是 immutable 类型的数据\n",
    "tp = 'Lily', 'Lucy', 'Thxiami'\n",
    "tp[0] = 'Jack'"
   ]
  },
  {
   "cell_type": "code",
   "execution_count": 90,
   "metadata": {
    "collapsed": false
   },
   "outputs": [
    {
     "data": {
      "text/plain": [
       "([1, 2, 3], [4, 5, 6])"
      ]
     },
     "execution_count": 90,
     "metadata": {},
     "output_type": "execute_result"
    }
   ],
   "source": [
    "# 虽然 tuple 是 immutable\n",
    "# 但是 tuple 可以存放 mutable 类型的数据\n",
    "tp_with_ls = [1, 2, 3], [4, 5, 6]\n",
    "tp_with_ls"
   ]
  },
  {
   "cell_type": "markdown",
   "metadata": {},
   "source": [
    "Q: 关于 `tuple` 还有没有什么进一步的资料？\n",
    "\n",
    "A: [Tuples and Sequences](https://docs.python.org/3.6/tutorial/datastructures.html#tuples-and-sequences)"
   ]
  },
  {
   "cell_type": "markdown",
   "metadata": {},
   "source": [
    "## 3.2 字典(dict)\n",
    "刚刚我们使用 `list` 存放了班级中几个同学的姓名，但是如果需要把他们的身高也存储起来，并使身高与同学一一对应，使用 `list` 就会比较麻烦。\n",
    "这是 Python 提供了另一种数据类型来做这件事——字典(`dict`)。看下方的代码："
   ]
  },
  {
   "cell_type": "code",
   "execution_count": 94,
   "metadata": {
    "collapsed": false
   },
   "outputs": [
    {
     "data": {
      "text/plain": [
       "169"
      ]
     },
     "execution_count": 94,
     "metadata": {},
     "output_type": "execute_result"
    }
   ],
   "source": [
    "# 创建一个字典的方式\n",
    "name_and_height = {'Lily': 169, 'Lucy': 155, 'Thxiami': 172}\n",
    "\n",
    "# 如果想要知道某个人的身高，这么做\n",
    "name_and_height['Lily']"
   ]
  },
  {
   "cell_type": "markdown",
   "metadata": {},
   "source": [
    "Q: 是不是又发现了什么？\n",
    "\n",
    "A: 对哈！ 如果我们把 `'Lily': 169` 当作一个元素的话, `dict` 的创建方式和 `list`, `tuple` 的套路很相似：不同元素使用 `,` 连接，元素被 `{` 和 `}`括起来。区别在于， `dict` 的元素是由一组键值对组成。\n",
    "\n",
    "Q: 什么是键值对？\n",
    "\n",
    "A: `'Lily': 169` 中 `:` 左侧的是键(key), 右侧是值(value)\n",
    "\n",
    "Q: 键值对有啥作用？\n",
    "\n",
    "A: 从上面代码看到，正如 `sequence data types` 中的 `list` 使用数字来索引指定元素，`dict` 使用 `key` 来索引对应的 `value`\n",
    "\n",
    "Q: 对于键值对有什么要求吗？\n",
    "\n",
    "A: `key` 只能是 `immutable` 类型的数据，如果是 `tuple`, 其内只能含有`immutable` 类型的数据作为元素\n",
    "\n",
    "Q: 关于 `dict` 还有没有什么进一步的资料？\n",
    "\n",
    "A: [Dictionaries](https://docs.python.org/3.6/tutorial/datastructures.html#dictionaries)"
   ]
  },
  {
   "cell_type": "markdown",
   "metadata": {},
   "source": [
    "## 3.3 集合(set)\n",
    "最后，我们介绍一种数据类型——`set`。它也用来储存数据的集合，但有两个显著的特点：\n",
    "\n",
    "- 无序\n",
    "- 不重复\n",
    "\n",
    "`set`的主要用途：\n",
    "- 去重\n",
    "- 判断是否包含某数据\n",
    "\n",
    "类似于数学中的集合，它也支持有关集合的几种运算：\n",
    "- 交集\n",
    "- 并集\n",
    "- 差集\n",
    "- 对称差集"
   ]
  },
  {
   "cell_type": "code",
   "execution_count": 96,
   "metadata": {
    "collapsed": false
   },
   "outputs": [
    {
     "name": "stdout",
     "output_type": "stream",
     "text": [
      "{'banana', 'orange', 'pear', 'apple'}\n",
      "'apple' in basket: True\n"
     ]
    }
   ],
   "source": [
    "# 创建一个 set，放入各种水果\n",
    "basket = {'apple', 'orange', 'apple', 'pear', 'orange', 'banana'}\n",
    "\n",
    "# set 用途之一：去重\n",
    "print(basket)\n",
    "\n",
    "# set 用途之二：判断是否包含某元素\n",
    "print(\"'apple' in basket:\", 'apple' in basket)"
   ]
  },
  {
   "cell_type": "code",
   "execution_count": 100,
   "metadata": {
    "collapsed": false
   },
   "outputs": [
    {
     "name": "stdout",
     "output_type": "stream",
     "text": [
      "交集: {2, 3}\n",
      "并集: {1, 2, 3, 4}\n",
      "差集 {1}\n",
      "对称差集 {1, 4}\n"
     ]
    }
   ],
   "source": [
    "set1 = {1, 2, 3}\n",
    "set2 = {2, 3, 4}\n",
    "\n",
    "# 有关 set 的几种运算\n",
    "# 交集， numbers in both set1 and set2\n",
    "print('交集:', set1 & set2)\n",
    "\n",
    "# 并集, numbers in set1 or set2\n",
    "print('并集:', set1 | set2)\n",
    "\n",
    "# 差集, numbers in set1 and not in set2\n",
    "print('差集', set1 - set2)\n",
    "\n",
    "# 对称差集, numbers in set1 or set2 but not both\n",
    "print('对称差集', set1 ^ set2)"
   ]
  },
  {
   "cell_type": "markdown",
   "metadata": {},
   "source": [
    "Q: 是不是又发现了什么？\n",
    "\n",
    "A: `set` 的创建方式和 `dict` 也是元素之间用 `,` 连接，两遍用 `{` 和 `}`括起来。\n",
    "\n",
    "Q: 有关 `set` 的更多信息\n",
    "\n",
    "A: [Sets](https://docs.python.org/3.6/tutorial/datastructures.html#sets)"
   ]
  },
  {
   "cell_type": "markdown",
   "metadata": {},
   "source": [
    "# 4 模块\n",
    "你可能不知道什么是模块，但在之前的练习中就不自觉的使用到了一些模块。比如为了实现猜字游戏的随机数生成，其实我们就和模块打过一次交道。\n",
    "```\n",
    "from random import randint\n",
    "num = randint(1, 21)\n",
    "```\n",
    "第 1 行代码的作用就是，从`random` 模块中导入`randint`这个函数变量\n",
    "第 2 行代码的作用就是，调用 `randint` 函数生成一个 1~20 的随机数，并赋给变量 `num`\n",
    "\n",
    "所以， 我们知道模块中有函数，我们可以通过某种方法导入其中的函数为自己所用。Python 风靡全球，使用人数越来越多的一个重要的原因就是它有很多开源的模块可供选用，我们可以根据自己的需求选择各种模块，而不用每次都自己重新开发，这极大得加快了开发的速度。\n",
    "\n",
    "简单的模块可以是一个含有函数的 py 文件，比如我们在教程文件所在目录下已经放置了一个名为 `calculation.py`的文件，其中只含有一个函数，即我们在 1.5 节定义的 `add` 函数。下面我们从中导入这个函数并调用之~"
   ]
  },
  {
   "cell_type": "code",
   "execution_count": 103,
   "metadata": {
    "collapsed": false
   },
   "outputs": [
    {
     "name": "stdout",
     "output_type": "stream",
     "text": [
      "根据 Python 的计算表明：1 + 2 = 3\n"
     ]
    }
   ],
   "source": [
    "from calculation import add\n",
    "add(1,2)"
   ]
  },
  {
   "cell_type": "markdown",
   "metadata": {},
   "source": [
    "哈哈，是不是很简单呀~\n",
    "\n",
    "Q: 进一步的资料\n",
    "\n",
    "A:\n",
    "- [廖雪峰的Python教程-模块](https://www.liaoxuefeng.com/wiki/0014316089557264a6b348958f449949df42a6d3a2e542c000/001431845183474e20ee7e7828b47f7b7607f2dc1e90dbb000)\n",
    "\n",
    "- [Modules](https://docs.python.org/3/tutorial/modules.html)"
   ]
  },
  {
   "cell_type": "markdown",
   "metadata": {},
   "source": [
    "# 5 类和对象\n",
    "什么是类？什么是对象？它们又有什么作用？先不着急，带着这些问题，我们来模拟一个场景。\n",
    "你是高一的一位班主任，现在刚刚开学，班里面来了5个同学，因为你的程序员潜质，你把他们安排在0-9号座位，而不是1-10号。为了能快速认识同学，你使用命令创建了一份**座次表(list)**，方便你能根据**座位号(index)**辨认他们的名字。\n",
    "```\n",
    "student_list = ['李雷', '韩梅梅', '学生甲', '学生乙', '学生丙']\n",
    "```\n",
    "过了一天，名字还没记全呢。学校又做了一次体检，要求你记录他们的**身高**，并可能随时来问，你一拍大腿: 这没问题啊，我才学过字典啊，于是你又创建了一个**身高对照表(dict)**\n",
    "```\n",
    "height_dict = {'李雷':160, '韩梅梅': 170, '学生甲': 175, '学生乙': 172, '学生丙': 180} # 怪不得李雷和韩梅梅没有在一起\n",
    "```\n",
    "刚没两天，领导突然进门，指着最漂亮的女生，问：“这位同学叫什么名字呀，三……哦不身高多少呀？”\n",
    "最漂亮的当然是 '韩梅梅'了，别的同学名字记不住，这个你肯定不会忘。于是拿起**身高对照表(dict)**一查，你干净利落的报出：“报告领导！这位同学叫韩梅梅，身高170cm。”\n",
    "\n",
    "“那这个呢？”领导又指了指最矮的“李雷”。你哪里记得他的名字，于是赶紧对着**座次表(list)**查出名字，然后又根据名字查出身高。\n",
    "```\n",
    "name = student_list[0]\n",
    "print(name)\n",
    "print(height_dict[name])\n",
    "```\n",
    "这时才报告给领导。虽然稍慢了一点，但领导还算满意，摆摆手走了。\n",
    "\n",
    "就这么先查**座次表(list)**，再查**身高对照表(dict)**，过了一个月，你终于记住了大家的名字和身高，这时也迎来了第一次考试。考试结束后，学校开会要求班主任必须了解每位同学的情况，不仅知道**身高**情况，还有**成绩**和**班级排名**，半月后抽查。但你记忆力又不好，需要经常重复才能慢慢记住。现在的问题是如果想知道某同学的成绩，那么你就要再创建**成绩对照表(dict)**和**班级排名对照表(dict)**，然后一项一项的去查询。但这样做效率太低，半个月肯定记不住。这时你发了愁，只记韩梅梅一个人的还勉强可以，如果每个人都需要记的话，这可怎么办。\n",
    "\n",
    "走回办公室的路上，你碰到了计算机老师 thxiami，他关切的问你：“咋了？兄弟，遇到事儿了？”于是你把你的难处告诉了他，听完后他掏出一本《面向对象编程入门指南》给你，头也不回的走了。想到 thxiami 20多岁了还没个对象，你好像明白了他为什么不需要这本书，又好像懂了什么。于是你把书拿回家，面对老婆仔细研究了数个小时，终于悟出其中的奥妙并运用自如。\n",
    "\n",
    "万物皆可归类，万物皆为类下的一个具体的对象。不管是身高腿长的“韩梅梅”还是矮短的“李雷”，他们都是“学生”这个类下一个具体的对象。\n",
    "\n",
    "这个类的学生都有几个属性：\n",
    "- 姓名\n",
    "- 身高\n",
    "- 成绩\n",
    "- 班级排名\n",
    "\n",
    "所以呢，“学生”这个类具体的一个对象——韩梅梅，她的属性就是：\n",
    "- 姓名: '韩梅梅'\n",
    "- 身高: 170\n",
    "- 语文成绩: 100\n",
    "- 班级排名: 1\n",
    "\n",
    "根据《面向对象编程入门指南》，你连夜拟定一个方案，若方案成功，则可以实现2点：\n",
    "- 随便指定一位同学，让他报出自己的姓名、身高、成绩和排名中的任一项\n",
    "- 随便指定一位同学，让他按照“我叫xxx,身高xx cm， 成绩 xx 分， 班级第x名”的方式报告\n",
    "\n",
    "第二天一早你就凭借个人魅力向同学们展示了你的方案，顺利的完成了创立门派 -> 个性化洗脑收徒 -> 翻牌 -> 发动技能 的全过程，这样以后就能快速获得每位同学的信息。过程展示如下："
   ]
  },
  {
   "cell_type": "code",
   "execution_count": 110,
   "metadata": {
    "collapsed": false
   },
   "outputs": [
    {
     "name": "stdout",
     "output_type": "stream",
     "text": [
      "韩梅梅\n",
      "5\n",
      "某人叫韩梅梅，身高170cm，成绩100分，班级第1名.\n",
      "某人叫李雷，身高160cm，成绩80分，班级第5名.\n"
     ]
    }
   ],
   "source": [
    "# 第一步，创立门派\n",
    "# 创建一个名为 Student 的门派（类）\n",
    "class Student(object): #先不要管这个 object 是啥，书上就这么写的\n",
    "    \n",
    "    # 定义个性化洗脑方法（定义__init__ 函数） \n",
    "    # 为师收你为门徒时（初始化对象），会自动使用个性化洗脑方法（会自动调用该函数）\n",
    "    # 洗脑时，需 5 个参数，默认第1个参数就是洗脑的对象，为师默认是你（self 即 对象本身）\n",
    "    # 所以个性化洗脑只需要 4 个属性即可（初始化对象时需传入 4 个参数）\n",
    "    \n",
    "    def __init__(self, stu_name, stu_height, stu_score, stu_rank):\n",
    "        # 根据给定的 4 个属性发放令牌（初始化对象的属性）\n",
    "        # 发放方式为 你自己.name = stu_name\n",
    "        # 这样以后既可以通过 .name 来翻你的牌（访问对象的属性）\n",
    "        self.name = stu_name\n",
    "        self.height = stu_height\n",
    "        self.score = stu_score\n",
    "        self.rank = stu_rank\n",
    "        \n",
    "    # 定义类方法    \n",
    "    def report(self):\n",
    "        print(\"某人叫{}，身高{}cm，成绩{}分，班级第{}名.\".format(self.name, self.height, self.score, self.rank))\n",
    "\n",
    "\n",
    "# 第二步，个性化洗脑，完成收徒（初始化对象）\n",
    "# 将 4 个参数放入 Student() 的 () 内，并赋予法号，就得到了个性化洗脑后的门徒（对象初始化完成并保存）\n",
    "hanmeimei = Student('韩梅梅', '170', 100, 1)\n",
    "lilei = Student('李雷', '160', 80, 5)\n",
    "\n",
    "# 第三步，翻门徒令牌\n",
    "# 该门徒（对象）拥有 4 个基本属性，并且可以随时翻她的牌(调用他的属性)\n",
    "print(hanmeimei.name)\n",
    "print(lilei.rank)\n",
    "\n",
    "# 第四步，发动门徒的技能\n",
    "# 该门徒（对象）有 1 个 report 技能（类方法）,发动技能的方法为\n",
    "hanmeimei.report()\n",
    "lilei.report()"
   ]
  },
  {
   "cell_type": "markdown",
   "metadata": {},
   "source": [
    "# CHANGELOG\n",
    "- ### 20170814 thxiami创建"
   ]
  }
 ],
 "metadata": {
  "anaconda-cloud": {},
  "kernelspec": {
   "display_name": "Python [py36]",
   "language": "python",
   "name": "Python [py36]"
  },
  "language_info": {
   "codemirror_mode": {
    "name": "ipython",
    "version": 3
   },
   "file_extension": ".py",
   "mimetype": "text/x-python",
   "name": "python",
   "nbconvert_exporter": "python",
   "pygments_lexer": "ipython3",
   "version": "3.6.1"
  }
 },
 "nbformat": 4,
 "nbformat_minor": 0
}
